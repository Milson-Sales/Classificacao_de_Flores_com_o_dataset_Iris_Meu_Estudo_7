{
  "nbformat": 4,
  "nbformat_minor": 0,
  "metadata": {
    "colab": {
      "name": "Classificação de Flores.ipynb",
      "provenance": []
    },
    "kernelspec": {
      "name": "python3",
      "display_name": "Python 3"
    },
    "language_info": {
      "name": "python"
    }
  },
  "cells": [
    {
      "cell_type": "code",
      "metadata": {
        "id": "CBFMQbdviiHi"
      },
      "source": [
        "# 1° Problema de Negócio\n",
        "# Classificação de Flores\n",
        "# Algoritmo Glaussian Naive Bayes\n"
      ],
      "execution_count": 2,
      "outputs": []
    },
    {
      "cell_type": "code",
      "metadata": {
        "id": "WCeIxSLyjA7w"
      },
      "source": [
        "# 2° Análise Exploratória dos Dados\n",
        "# Importando a Biblioteca\n",
        "from sklearn import datasets\n",
        "from sklearn import metrics\n",
        "from sklearn.naive_bayes import GaussianNB"
      ],
      "execution_count": 1,
      "outputs": []
    },
    {
      "cell_type": "code",
      "metadata": {
        "id": "ONrlGH-Rj_UZ"
      },
      "source": [
        "# Dataset\n",
        "dataset = datasets.load_iris()"
      ],
      "execution_count": 3,
      "outputs": []
    },
    {
      "cell_type": "code",
      "metadata": {
        "id": "FSJ_XxSZkSGm"
      },
      "source": [
        "dataset.data"
      ],
      "execution_count": null,
      "outputs": []
    },
    {
      "cell_type": "code",
      "metadata": {
        "colab": {
          "base_uri": "https://localhost:8080/"
        },
        "id": "eNSdadWUkZqv",
        "outputId": "165a68ef-d677-4492-b931-ce181b18fc84"
      },
      "source": [
        "dataset.target"
      ],
      "execution_count": 5,
      "outputs": [
        {
          "output_type": "execute_result",
          "data": {
            "text/plain": [
              "array([0, 0, 0, 0, 0, 0, 0, 0, 0, 0, 0, 0, 0, 0, 0, 0, 0, 0, 0, 0, 0, 0,\n",
              "       0, 0, 0, 0, 0, 0, 0, 0, 0, 0, 0, 0, 0, 0, 0, 0, 0, 0, 0, 0, 0, 0,\n",
              "       0, 0, 0, 0, 0, 0, 1, 1, 1, 1, 1, 1, 1, 1, 1, 1, 1, 1, 1, 1, 1, 1,\n",
              "       1, 1, 1, 1, 1, 1, 1, 1, 1, 1, 1, 1, 1, 1, 1, 1, 1, 1, 1, 1, 1, 1,\n",
              "       1, 1, 1, 1, 1, 1, 1, 1, 1, 1, 1, 1, 2, 2, 2, 2, 2, 2, 2, 2, 2, 2,\n",
              "       2, 2, 2, 2, 2, 2, 2, 2, 2, 2, 2, 2, 2, 2, 2, 2, 2, 2, 2, 2, 2, 2,\n",
              "       2, 2, 2, 2, 2, 2, 2, 2, 2, 2, 2, 2, 2, 2, 2, 2, 2, 2])"
            ]
          },
          "metadata": {},
          "execution_count": 5
        }
      ]
    },
    {
      "cell_type": "code",
      "metadata": {
        "colab": {
          "base_uri": "https://localhost:8080/"
        },
        "id": "LKk8jJcQkeEa",
        "outputId": "50e35e9c-0b14-41e3-e66d-c8a1bafe4b97"
      },
      "source": [
        "dataset.target_names"
      ],
      "execution_count": 6,
      "outputs": [
        {
          "output_type": "execute_result",
          "data": {
            "text/plain": [
              "array(['setosa', 'versicolor', 'virginica'], dtype='<U10')"
            ]
          },
          "metadata": {},
          "execution_count": 6
        }
      ]
    },
    {
      "cell_type": "code",
      "metadata": {
        "id": "Qtdd2ZeUkjtb"
      },
      "source": [
        "# Padronização dos Recursos\n",
        "#from sklearn.preprocessing import StandardScaler\n",
        "#from sklearn.model_selection import train_test_split\n",
        "#X_train, X_test, y_train, y_test = train_test_split(X, y, test_size=0.2, random_state= 7)\n",
        "#sc = StanderScaler()\n",
        "#X_train = sc .fit_transform(X_train)\n",
        "#X_test = sc.transform(X_test)\n",
        "#print(\"\\n--------\\nDataset depois da padronização:\\n--------\\n\",)"
      ],
      "execution_count": null,
      "outputs": []
    },
    {
      "cell_type": "code",
      "metadata": {
        "id": "Kx0YwIvJnBvm"
      },
      "source": [
        "# classisficador\n",
        "clf = GaussianNB()"
      ],
      "execution_count": 13,
      "outputs": []
    },
    {
      "cell_type": "code",
      "metadata": {
        "colab": {
          "base_uri": "https://localhost:8080/"
        },
        "id": "079HMCFTnWPk",
        "outputId": "70ad05bc-217b-4d5a-f22a-3ee9929a8a90"
      },
      "source": [
        "# Criando a máquina Preditiva\n",
        "# Modelo\n",
        "modelo = clf.fit(dataset.data, dataset.target)\n",
        "print(modelo)"
      ],
      "execution_count": 14,
      "outputs": [
        {
          "output_type": "stream",
          "name": "stdout",
          "text": [
            "GaussianNB(priors=None, var_smoothing=1e-09)\n"
          ]
        }
      ]
    },
    {
      "cell_type": "code",
      "metadata": {
        "id": "lIzON-3En_9d"
      },
      "source": [
        "# Previsões\n",
        "observado = dataset.target\n",
        "previsto = modelo.predict(dataset.data)"
      ],
      "execution_count": 15,
      "outputs": []
    },
    {
      "cell_type": "code",
      "metadata": {
        "colab": {
          "base_uri": "https://localhost:8080/"
        },
        "id": "kcPgtWYgnn8q",
        "outputId": "9062ad90-d320-47ce-c37d-a5e496f342bf"
      },
      "source": [
        "# Avaliando a máquina preditiva\n",
        "# Sumário\n",
        "print(metrics.classification_report(observado, previsto))\n",
        "print(metrics.confusion_matrix(observado, previsto))"
      ],
      "execution_count": 16,
      "outputs": [
        {
          "output_type": "stream",
          "name": "stdout",
          "text": [
            "              precision    recall  f1-score   support\n",
            "\n",
            "           0       1.00      1.00      1.00        50\n",
            "           1       0.94      0.94      0.94        50\n",
            "           2       0.94      0.94      0.94        50\n",
            "\n",
            "    accuracy                           0.96       150\n",
            "   macro avg       0.96      0.96      0.96       150\n",
            "weighted avg       0.96      0.96      0.96       150\n",
            "\n",
            "[[50  0  0]\n",
            " [ 0 47  3]\n",
            " [ 0  3 47]]\n"
          ]
        }
      ]
    },
    {
      "cell_type": "code",
      "metadata": {
        "id": "Tdf4Z6h0optQ"
      },
      "source": [
        "# Avaliando a máquina preditiva\n",
        "# Sumário com a Padronização\n",
        "print(metrics.classification_report(observado, previsto))\n",
        "print(metrics.confusion_matrix(observado, previsto))"
      ],
      "execution_count": null,
      "outputs": []
    }
  ]
}